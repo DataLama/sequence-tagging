{
 "cells": [
  {
   "cell_type": "markdown",
   "metadata": {},
   "source": [
    "- 코세라 \n",
    "    - https://www.youtube.com/watch?v=rc3YDj5GiVM"
   ]
  },
  {
   "cell_type": "markdown",
   "metadata": {},
   "source": [
    "- 한국인들 블로그\n",
    "    - https://ratsgo.github.io/machine%20learning/2017/11/10/CRF/\n",
    "    - https://lovit.github.io/nlp/2018/09/13/crf_based_tagger/\n",
    "    - https://wikidocs.net/34156"
   ]
  },
  {
   "cell_type": "markdown",
   "metadata": {},
   "source": [
    "https://github.com/facebookresearch/pytext/blob/master/pytext/models/crf.py"
   ]
  },
  {
   "cell_type": "markdown",
   "metadata": {},
   "source": [
    "CRFs and MEMMS are discriminative sequence models whereas HMMs are generative sequence models. HMM essentially uses Bayes Rule as a local model over the transition and emission probabilities, whereas CRF and MEMM’s local models are MaxEnt models over transition and observable features. The chief difference between MEMM and CRF is that MEMM is locally renormalized and suffers from the label bias problem, while CRFs are globally renormalized."
   ]
  },
  {
   "cell_type": "markdown",
   "metadata": {},
   "source": [
    "transition?\n",
    "emission?"
   ]
  },
  {
   "cell_type": "markdown",
   "metadata": {},
   "source": [
    "### 시퀀스 레이블링 평가하기\n",
    "- BIO tagging scheme을 사용함.\n",
    "- O tag는 제외하고 f1 score 계산하기. \n",
    "- padding은 무조건 0으로...\n",
    "    - 0부터 시작해서 naver-ner을 동일한 스킴으로 해결하는지 판단..."
   ]
  },
  {
   "cell_type": "markdown",
   "metadata": {},
   "source": [
    "---"
   ]
  },
  {
   "cell_type": "markdown",
   "metadata": {},
   "source": [
    "# CRF"
   ]
  },
  {
   "cell_type": "markdown",
   "metadata": {},
   "source": [
    "### Task-specific prediction\n",
    "- X -> y\n",
    "\n",
    "- image segmentation\n",
    "    - input variables : pixel values precessed features.\n",
    "    - target variables : class for every pixel.\n",
    "    \n",
    "- Text processing\n",
    "    - input : words in sentence\n",
    "    - labels of words"
   ]
  },
  {
   "cell_type": "markdown",
   "metadata": {},
   "source": [
    "### 왜 crf를 사여ㅛㅇ하는 것이 좋나?\n",
    "- correlated featurees\n",
    "- ci <- xi1 ~ xik (color & texture histograms)\n",
    "- pixel 값들이 매우 correlated 되어 있음."
   ]
  },
  {
   "cell_type": "markdown",
   "metadata": {},
   "source": [
    "model P(X,Y) -> hmm\n",
    "model P(Y|X) -> conditioned"
   ]
  },
  {
   "cell_type": "markdown",
   "metadata": {},
   "source": [
    "딱 보면 깁스분포랑 비슷함.\n",
    "- feature, score이 있음.\n",
    "- factor들을 곱함\n",
    "- unnormalied measure"
   ]
  },
  {
   "cell_type": "markdown",
   "metadata": {},
   "source": [
    "### crf와 logistic model 간의 관계"
   ]
  },
  {
   "cell_type": "markdown",
   "metadata": {},
   "source": [
    "- correlation이 더즌 메터?\n",
    "- 연구자가 원하는 input feature를 사용가능함.? -> 실제 how?"
   ]
  }
 ],
 "metadata": {
  "kernelspec": {
   "display_name": "Python 3",
   "language": "python",
   "name": "python3"
  },
  "language_info": {
   "codemirror_mode": {
    "name": "ipython",
    "version": 3
   },
   "file_extension": ".py",
   "mimetype": "text/x-python",
   "name": "python",
   "nbconvert_exporter": "python",
   "pygments_lexer": "ipython3",
   "version": "3.6.9"
  }
 },
 "nbformat": 4,
 "nbformat_minor": 4
}
