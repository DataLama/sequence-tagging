{
 "cells": [
  {
   "cell_type": "markdown",
   "metadata": {},
   "source": [
    "- handler에 필요한 것.\n",
    "    - normalize and 전처리/ 특히 space를 온점으로 변환.\n",
    "    - 파이프라인과 토크나이저에 대한 컨피그\n",
    "    - max_seq_len?"
   ]
  },
  {
   "cell_type": "markdown",
   "metadata": {},
   "source": [
    "---"
   ]
  },
  {
   "cell_type": "code",
   "execution_count": 1,
   "metadata": {},
   "outputs": [],
   "source": [
    "import os\n",
    "os.environ[\"CUDA_VISIBLE_DEVICES\"]=\"\""
   ]
  },
  {
   "cell_type": "code",
   "execution_count": 2,
   "metadata": {},
   "outputs": [],
   "source": [
    "import pandas as pd\n",
    "\n",
    "from pathlib import Path\n",
    "from transformers import AutoTokenizer\n",
    "from pipeline.onnx_pipeline import TokenClassificationPipelineORT\n",
    "\n",
    "from pipeline.utils import normalize, preprocess"
   ]
  },
  {
   "cell_type": "code",
   "execution_count": 4,
   "metadata": {},
   "outputs": [],
   "source": [
    "tokenizer = AutoTokenizer.from_pretrained(\"hfl/chinese-electra-180g-large-discriminator\", use_fast=True)\n",
    "pipe = TokenClassificationPipelineORT(\n",
    "                               model_path='zh-sentiment-tagging/model.onnx', \n",
    "                               tokenizer=tokenizer,\n",
    "                               device=-1, \n",
    "                               ignore_labels=[],\n",
    "                               grouped_entities= False,\n",
    "                               ignore_subwords=True,\n",
    "                               idx2label=[\"O\", \"긍정-B\", \"긍정-I\", \"부정-B\", \"부정-I\"]\n",
    "                              )"
   ]
  },
  {
   "cell_type": "code",
   "execution_count": 22,
   "metadata": {},
   "outputs": [],
   "source": [
    "inputs = \"\"\"原装除了一份小样，别的都包装未拆，比旗舰店便宜一百出，超级划算的\"\"\""
   ]
  },
  {
   "cell_type": "code",
   "execution_count": 23,
   "metadata": {},
   "outputs": [
    {
     "data": {
      "application/vnd.jupyter.widget-view+json": {
       "model_id": "90d3aee81f2e436ca5af4dc788c08225",
       "version_major": 2,
       "version_minor": 0
      },
      "text/plain": [
       "HBox(children=(HTML(value='Sentiment-Tagging'), FloatProgress(value=0.0, max=1.0), HTML(value='')))"
      ]
     },
     "metadata": {},
     "output_type": "display_data"
    },
    {
     "name": "stdout",
     "output_type": "stream",
     "text": [
      "\n"
     ]
    }
   ],
   "source": [
    "predicts = pipe(inputs)"
   ]
  },
  {
   "cell_type": "code",
   "execution_count": 24,
   "metadata": {},
   "outputs": [
    {
     "data": {
      "text/plain": [
       "[{'word': '原', 'score': 0.8828667998313904, 'entity': 'O', 'index': 1},\n",
       " {'word': '装', 'score': 0.9134234189987183, 'entity': 'O', 'index': 2},\n",
       " {'word': '除', 'score': 0.8829842209815979, 'entity': 'O', 'index': 3},\n",
       " {'word': '了', 'score': 0.6477175354957581, 'entity': 'O', 'index': 4},\n",
       " {'word': '一', 'score': 0.7209131717681885, 'entity': 'O', 'index': 5},\n",
       " {'word': '份', 'score': 0.8133525848388672, 'entity': 'O', 'index': 6},\n",
       " {'word': '小', 'score': 0.8163156509399414, 'entity': 'O', 'index': 7},\n",
       " {'word': '样', 'score': 0.8493277430534363, 'entity': 'O', 'index': 8},\n",
       " {'word': '，', 'score': 0.8840183615684509, 'entity': 'O', 'index': 9},\n",
       " {'word': '别', 'score': 0.9015501737594604, 'entity': 'O', 'index': 10},\n",
       " {'word': '的', 'score': 0.906394362449646, 'entity': 'O', 'index': 11},\n",
       " {'word': '都', 'score': 0.9103206992149353, 'entity': 'O', 'index': 12},\n",
       " {'word': '包', 'score': 0.9223918914794922, 'entity': 'O', 'index': 13},\n",
       " {'word': '装', 'score': 0.9350201487541199, 'entity': 'O', 'index': 14},\n",
       " {'word': '未', 'score': 0.9308053255081177, 'entity': 'O', 'index': 15},\n",
       " {'word': '拆', 'score': 0.9370146989822388, 'entity': 'O', 'index': 16},\n",
       " {'word': '，', 'score': 0.9647074937820435, 'entity': 'O', 'index': 17},\n",
       " {'word': '比', 'score': 0.6169214248657227, 'entity': 'O', 'index': 18},\n",
       " {'word': '旗', 'score': 0.6413390636444092, 'entity': 'O', 'index': 19},\n",
       " {'word': '舰', 'score': 0.6477176547050476, 'entity': 'O', 'index': 20},\n",
       " {'word': '店', 'score': 0.7399267554283142, 'entity': 'O', 'index': 21},\n",
       " {'word': '便', 'score': 0.705155074596405, 'entity': 'O', 'index': 22},\n",
       " {'word': '宜', 'score': 0.7670461535453796, 'entity': 'O', 'index': 23},\n",
       " {'word': '一', 'score': 0.7206903100013733, 'entity': 'O', 'index': 24},\n",
       " {'word': '百', 'score': 0.743065357208252, 'entity': 'O', 'index': 25},\n",
       " {'word': '出', 'score': 0.8028080463409424, 'entity': 'O', 'index': 26},\n",
       " {'word': '，', 'score': 0.8573445081710815, 'entity': 'O', 'index': 27},\n",
       " {'word': '超', 'score': 0.6977472305297852, 'entity': 'O', 'index': 28},\n",
       " {'word': '级', 'score': 0.7183201909065247, 'entity': 'O', 'index': 29},\n",
       " {'word': '划', 'score': 0.676425576210022, 'entity': 'O', 'index': 30},\n",
       " {'word': '算', 'score': 0.6916379332542419, 'entity': 'O', 'index': 31},\n",
       " {'word': '的', 'score': 0.7037249207496643, 'entity': 'O', 'index': 32}]"
      ]
     },
     "execution_count": 24,
     "metadata": {},
     "output_type": "execute_result"
    }
   ],
   "source": [
    "predicts"
   ]
  }
 ],
 "metadata": {
  "kernelspec": {
   "display_name": "Python 3",
   "language": "python",
   "name": "python3"
  },
  "language_info": {
   "codemirror_mode": {
    "name": "ipython",
    "version": 3
   },
   "file_extension": ".py",
   "mimetype": "text/x-python",
   "name": "python",
   "nbconvert_exporter": "python",
   "pygments_lexer": "ipython3",
   "version": "3.7.5"
  }
 },
 "nbformat": 4,
 "nbformat_minor": 4
}
